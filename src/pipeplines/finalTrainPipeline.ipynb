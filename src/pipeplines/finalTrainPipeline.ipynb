{
 "cells": [
  {
   "cell_type": "code",
   "execution_count": null,
   "metadata": {},
   "outputs": [],
   "source": [
    "import re\n",
    "import time\n",
    "import json\n",
    "import pandas as pd\n",
    "from tqdm import tqdm\n",
    "\n",
    "import warnings\n",
    "warnings.filterwarnings(\"ignore\")\n",
    "\n",
    "from langchain.vectorstores.base import VectorStoreRetriever\n",
    "from langchain_community.document_loaders import CSVLoader\n",
    "from langchain.text_splitter import RecursiveCharacterTextSplitter\n",
    "from langchain_community.vectorstores.chroma import Chroma\n",
    "from langchain_community.embeddings import HuggingFaceInferenceAPIEmbeddings\n",
    "from langchain.prompts import ChatPromptTemplate\n",
    "from langchain_community.embeddings import HuggingFaceEmbeddings\n",
    "from langchain_community.vectorstores import Chroma\n",
    "from geoloc_utils.ragGeocoder import get_coordinates_array, get_distances\n",
    "\n",
    "from langchain_openai import ChatOpenAI\n",
    "from dotenv import load_dotenv, find_dotenv"
   ]
  },
  {
   "cell_type": "markdown",
   "metadata": {},
   "source": [
    "--------------------------------"
   ]
  },
  {
   "cell_type": "markdown",
   "metadata": {},
   "source": [
    "### Создание ретриверов и определение функций"
   ]
  },
  {
   "cell_type": "code",
   "execution_count": 3,
   "metadata": {},
   "outputs": [],
   "source": [
    "places_paths = [\"../production_data/production_hotels.csv\", \"../production_data/production_cafes.csv\", \"../production_data/production_ent.csv\"]\n",
    "docs = []\n",
    "\n",
    "def docs_cleaning(docs):\n",
    "    for i in range (len(docs)):\n",
    "        cleaned_content = re.sub(r'(: [0-9+]\\n0:)', ' ', docs[i].page_content).strip()\n",
    "        docs[i].page_content = cleaned_content\n",
    "        docs[i].page_content = docs[i].page_content.replace(\"description: \", \"\")\n",
    "    return docs\n",
    "\n",
    "def create_loader(file_path):\n",
    "    loader = CSVLoader(file_path=file_path, content_columns=['description'],\n",
    "        csv_args={\n",
    "        'delimiter': ',',\n",
    "        'quotechar': '\"',\n",
    "    })\n",
    "    docs = loader.load()\n",
    "    docs = docs_cleaning(docs)\n",
    "    return docs\n",
    "\n",
    "def format_docs(docs):\n",
    "    return \"\\n\\n\".join(doc.page_content for doc in docs)\n",
    "\n",
    "def make_retriver(name: str, documents: list, embedding_generator,text_splitter, search_type: str = \"similarity\", search_kwargs: dict = {\"k\": 7}):\n",
    "    text_splits = text_splitter.split_documents(documents)\n",
    "    vector_store = Chroma.from_documents(collection_name=name, documents=text_splits, embedding=embedding_generator, persist_directory=\"/tmp/chroma_db\")\n",
    "    return vector_store.as_retriever(search_type=search_type, search_kwargs=search_kwargs)\n",
    "\n",
    "hotels_docs = create_loader(places_paths[0])\n",
    "cafes_docs = create_loader(places_paths[1])\n",
    "ent_docs = create_loader(places_paths[2])"
   ]
  },
  {
   "cell_type": "code",
   "execution_count": null,
   "metadata": {},
   "outputs": [],
   "source": [
    "# разделяем текст на части\n",
    "text_splitter = RecursiveCharacterTextSplitter(\n",
    "        chunk_size=100, chunk_overlap=50, add_start_index=True\n",
    "    )\n",
    "splits = text_splitter.split_documents(docs)\n",
    "\n",
    "# создаем эмбеддинги для частей текста\n",
    "embeddings_generator = HuggingFaceEmbeddings(\n",
    "    model_name=\"BAAI/bge-m3\",\n",
    "    model_kwargs={'device': 'cuda'},\n",
    ")\n",
    "\n",
    "'''\n",
    "db = Chroma(collection_name=\"cafes\")\n",
    "db._client.delete_collection(\"cafes\")\n",
    "\n",
    "db = Chroma(collection_name=\"hotels\")\n",
    "db._client.delete_collection(\"hotels\")\n",
    "\n",
    "db = Chroma(collection_name=\"ents\")\n",
    "db._client.delete_collection(\"ents\")\n",
    "'''\n",
    "\n",
    "# создаем объект для поиска по векторному хранилищу\n",
    "hotels_retriever = make_retriver(\"hotels\", hotels_docs, embedding_generator=embeddings_generator, text_splitter=text_splitter)\n",
    "\n",
    "ent_retriever = make_retriver(\"ents\", ent_docs, embedding_generator=embeddings_generator, text_splitter=text_splitter)\n",
    "\n",
    "cafes_retriever = make_retriver(\"cafes\", cafes_docs, embedding_generator=embeddings_generator, text_splitter=text_splitter)"
   ]
  },
  {
   "cell_type": "markdown",
   "metadata": {},
   "source": [
    "### RAG-конвейер"
   ]
  },
  {
   "cell_type": "code",
   "execution_count": 5,
   "metadata": {},
   "outputs": [],
   "source": [
    "# используемая модель\n",
    "llm = ChatOpenAI(\n",
    "    model=\"gpt-4o-mini\",\n",
    "    temperature = 0.7,\n",
    "    api_key=API_KEY,\n",
    "    base_url=PROXY_URL,\n",
    ")\n",
    "\n",
    "# промпты\n",
    "template_main = \"\"\"Вы являетесь помощником при составлении маршрутов по Новосибирской области.\n",
    "Используйте информацию только из найденного контекста, чтобы ответить на вопрос. При вопросе об определенном городе предоставляйте места только из него. Указывайте название, адрес и цену мест. Не добавляйте свои данные. Отвечайте на русском, понятно, кратко и лаконично. Используйте слова из запроса пользователя.\n",
    "При составлении маршрута на 1 день и более ОБЯЗАТЕЛЬНО указывайте места, где можно покушать и где переночевать. Указывай одно место для ночлега на все дни, если не просят обратного.\n",
    "Данные о развлечениях Новосибирска: {context_ent}  \n",
    "Данные об отелях Новосибирска: {context_hotels}\n",
    "Данные о местах питания в Новосибирске: {context_cafes}\n",
    "Если вы не знаете ответа или у вас нет данных для корректного ответа на него, просто скажите, что не знаете. \n",
    "Вопрос от пользователя: {question} \n",
    "\"\"\"\n",
    "prompt = ChatPromptTemplate.from_template(template_main)\n",
    "\n",
    "template_paths = \"\"\"Добавь в предложенный маршрут информацию о расстояниях между объектами, которые предложено посетить за день. Если маршрута нет - верни исходный текст. Напишите примерное время в пути при передвижении пешком и на машине. Предупредите, что расстояния и время приблизительные и необходимо уточнить информацию в интернете. В ответе оставь только текст для пользователя.\n",
    "Предложенный маршрут: {prompt}  \n",
    "Данные о расстояниях между объектами: {distances}\n",
    "\"\"\"\n",
    "prompt_paths = ChatPromptTemplate.from_template(template_paths)"
   ]
  },
  {
   "cell_type": "code",
   "execution_count": 6,
   "metadata": {},
   "outputs": [],
   "source": [
    "def get_retriver_categories(llm, question):\n",
    "    template = \"\"\"Есть вопрос от пользователя: {question} \n",
    "    # Оцени, будет ли пользователю полезна для ответа на вопрос информация о: местах проживания, местах питания и развлечениях. Чтобы определить надобность, поставь себя на место этого пользователя, не додумывай вопрос пользователя, отвечай четко по тому что спрашивается. Если же просят составить маршрут более чем на 1 день, то отвечай [true, true, true].\n",
    "    В ответе напиши  список из true и false, где на первом месте будет надобность мест проживания, на втором - мест питания (рестораны, кафе и прочее) и на третьем - развлечения (бассейны, парки и прочее). К примеру, [false, false, true].\n",
    "    \"\"\"\n",
    "    prompt = ChatPromptTemplate.from_template(template)\n",
    "    result = llm.invoke(prompt.format(question=question))\n",
    "\n",
    "    try:\n",
    "        result = result.content\n",
    "    except AttributeError:\n",
    "        result = result\n",
    "\n",
    "    pattern = re.compile(r\"\\[.*\\]\")\n",
    "    match = pattern.search(result)\n",
    "   # print(match)\n",
    "    try:\n",
    "        return json.loads(match[0])\n",
    "    except:\n",
    "        return [True,True,True]"
   ]
  },
  {
   "cell_type": "code",
   "execution_count": null,
   "metadata": {},
   "outputs": [],
   "source": [
    "class RawContext:\n",
    "    def __init__(self, context_name: str = \"Unknown\", \n",
    "                 retriever: VectorStoreRetriever = None, \n",
    "                 context_default_output: str = \"нет необходимости\"):\n",
    "        self.context_name = context_name\n",
    "        self.retriever = retriever\n",
    "        self.context_default_output = context_default_output\n",
    "\n",
    "\n",
    "def get_contexts_(llm, question: str, raw_contexts: list[RawContext]):\n",
    "    start_time = time.time()\n",
    "    categories_bool_list = get_retriver_categories(llm, question)\n",
    "   # print(\"Определение необходимых категорий для ретривера: \", time.time()-start_time)\n",
    "\n",
    "    start_time = time.time()\n",
    "\n",
    "    result_context = {\n",
    "        \"question\": question,\n",
    "    }\n",
    "    for raw_context, is_needed in zip(raw_contexts, categories_bool_list):\n",
    "        if is_needed:\n",
    "            extracted_context = (raw_context.retriever | format_docs).invoke(question)\n",
    "        else:\n",
    "            extracted_context = raw_context.context_default_output\n",
    "        result_context[raw_context.context_name] = extracted_context\n",
    "    \n",
    "  #  print(\"Определение контекста из ретривера: \", time.time()-start_time)\n",
    "    return result_context\n",
    "\n",
    "# Пример вызова rag_chain\n",
    "def run_rag_chain(question, prompt, prompt_paths):\n",
    "    # contexts = get_contexts(llm, question)\n",
    "    context_question = question\n",
    "    if (\"рядом с новос\" in question.lower() or \"недалеко с новос\" in question.lower()):\n",
    "        context_question = context_question.lower().replace(\"новосибирск\", \"\")\n",
    "        context_question += \"например, в Бердске, Кольцово, Колывани\"\n",
    "    contexts = get_contexts_(llm, context_question, raw_contexts=\n",
    "                             [\n",
    "                                RawContext(context_name=\"context_hotels\", retriever=hotels_retriever),\n",
    "                                RawContext(context_name=\"context_cafes\", retriever=cafes_retriever),\n",
    "                                RawContext(context_name=\"context_ent\", retriever=ent_retriever)\n",
    "                             ])\n",
    "  #  print(contexts)\n",
    "\n",
    "    start_time = time.time()\n",
    "    descr_cafes = []\n",
    "    descr_hotels = []\n",
    "    descr_ent = []\n",
    "\n",
    "    retr_result = contexts\n",
    "\n",
    "    empty_cat = 0\n",
    "\n",
    "    for retr in retr_result:\n",
    "        if retr == 'context_hotels' and retr_result[retr] != 'нет необходимости':\n",
    "            descr_hotels += retr_result[retr].split(sep='\\n\\n')\n",
    "        if retr == 'context_ent' and retr_result[retr] != 'нет необходимости':\n",
    "            descr_ent += retr_result[retr].split(sep='\\n\\n')\n",
    "        if retr == 'context_cafes' and retr_result[retr] != 'нет необходимости':\n",
    "            descr_cafes += retr_result[retr].split(sep='\\n\\n')\n",
    "        if retr_result[retr] == 'нет необходимости':\n",
    "            empty_cat += 1\n",
    "\n",
    "    all_descr_df = descr_cafes + descr_hotels + descr_ent\n",
    "    #print(all_descr_df)\n",
    "    final_prompt = prompt.format(**contexts)  # Формируем финальный промпт\n",
    "    response = llm.invoke(final_prompt)  # Вызываем LLM с финальным промптом\n",
    "   # print(\"Формирование ответа: \", time.time()-start_time)\n",
    "    start_time = time.time()\n",
    "   # print(response.content)\n",
    "    \n",
    "    search_text = response.content.lower() + question\n",
    "    if (\"маршрут\" not in search_text) and (\"план\" not in search_text) and (\"поездк\" not in search_text) and (\"путь\" not in search_text) and (\"пути\" not in search_text) and (\"путешеств\" not in search_text):\n",
    "        return response.content\n",
    "    #print(\"Сейчас напишу примерное расстояние между местами...\")\n",
    "    coord_array = get_coordinates_array(all_descr_df)\n",
    "   # print(\"Получение координат для мест: \", time.time()-start_time)\n",
    "    start_time = time.time()\n",
    "\n",
    "    distances = get_distances(coord_array)\n",
    "   # print(\"Вычисление расстояний между местами: \", time.time()-start_time)\n",
    "    start_time = time.time()\n",
    "\n",
    "    path_contexts = dict()\n",
    "    path_contexts['distances'] = distances\n",
    "    path_contexts['prompt'] = response.content\n",
    "\n",
    "    final_prompt = prompt_paths.format(**path_contexts)  # Формируем финальный промпт\n",
    "    response = llm.invoke(final_prompt)  # Вызываем LLM с финальным промптом\n",
    "\n",
    "    #contexts['distances'] = distances\n",
    "    #print(distances)\n",
    "\n",
    "    try:\n",
    "        return response.content\n",
    "    except AttributeError:\n",
    "        return response"
   ]
  },
  {
   "cell_type": "code",
   "execution_count": 11,
   "metadata": {},
   "outputs": [
    {
     "name": "stdout",
     "output_type": "stream",
     "text": [
      "Вы можете посетить аквапарк «Аквамир». Адрес: ул. Яринская, 8. Это самый большой крытый аквапарк в Сибири с 153 аттракционами.\n"
     ]
    }
   ],
   "source": [
    "query = \"куда сходить в аквапарк\"\n",
    "a = run_rag_chain(query, prompt, prompt_paths)\n",
    "print(a)"
   ]
  },
  {
   "cell_type": "markdown",
   "metadata": {},
   "source": [
    "--------------------"
   ]
  },
  {
   "cell_type": "markdown",
   "metadata": {},
   "source": [
    "## Оценивание"
   ]
  },
  {
   "cell_type": "code",
   "execution_count": 24,
   "metadata": {},
   "outputs": [
    {
     "data": {
      "text/plain": [
       "False"
      ]
     },
     "execution_count": 24,
     "metadata": {},
     "output_type": "execute_result"
    }
   ],
   "source": [
    "from ragas import evaluate\n",
    "from ragas.metrics import (\n",
    "    faithfulness,\n",
    "    NonLLMContextRecall,\n",
    "    NonLLMContextPrecisionWithReference\n",
    ")\n",
    "\n",
    "\n",
    "eval_llm = ChatOpenAI(\n",
    "    model=\"gpt-4o-mini\",\n",
    "    api_key=API_KEY,\n",
    "    base_url=PROXY_URL,\n",
    ")\n",
    "\n",
    "load_dotenv(find_dotenv())  "
   ]
  },
  {
   "cell_type": "code",
   "execution_count": null,
   "metadata": {},
   "outputs": [],
   "source": [
    "# загрузка тестового датасета с вопросами и референсным контекстом\n",
    "testset_df = pd.read_csv(\"../eval_utils/testset_only_route.csv\", index_col=0)\n",
    "testset_df[\"reference_contexts\"] = testset_df[\"reference_contexts\"].apply(\n",
    "    lambda x: None if x == \"[]\" else eval(x)\n",
    ")\n",
    "\n",
    "# генерация ответов на вопросы и  контекста\n",
    "answers = []\n",
    "contexts = []\n",
    "\n",
    "for i in tqdm(range(len(testset_df))):\n",
    "    answers.append(run_rag_chain(testset_df[\"question\"][i], prompt, prompt_paths))\n",
    "    contexts.append(\n",
    "        [\n",
    "            docs.page_content\n",
    "            for docs in ent_retriever.invoke(\n",
    "                testset_df[\"question\"][i])\n",
    "        ]\n",
    "        + [\n",
    "            docs.page_content\n",
    "            for docs in cafes_retriever.invoke(\n",
    "                testset_df[\"question\"][i]\n",
    "            )\n",
    "        ]\n",
    "        + [\n",
    "            docs.page_content\n",
    "            for docs in hotels_retriever.invoke(\n",
    "                testset_df[\"question\"][i]\n",
    "            )\n",
    "        ]\n",
    "    )\n",
    "\n",
    "# формирование датасета\n",
    "testset_df[\"answer\"] = answers\n",
    "testset_df[\"contexts\"] = contexts\n",
    "\n",
    "testset_df.to_csv(\"../eval_utils/eval_results/production_eval_testset_gpt-4o-mini.csv\")"
   ]
  },
  {
   "cell_type": "code",
   "execution_count": null,
   "metadata": {},
   "outputs": [],
   "source": [
    "# подготовка датасета к оценке\n",
    "from datasets import Dataset\n",
    "\n",
    "# если импортируем датасет\n",
    "#testset_df = pd.read_csv('../data/eval_testset_by_quest_gpt4_coord.csv')\n",
    "#testset_df['reference_contexts'] = testset_df['reference_contexts'].apply(lambda x: None if isinstance(x, float) else eval(x))\n",
    "#testset_df['contexts'] = testset_df['contexts'].apply(lambda x: None if isinstance(x, float) else eval(x))\n",
    "\n",
    "testset = Dataset.from_pandas(testset_df)\n",
    "\n",
    "testset_df_nonan = testset_df[~testset_df.reference_contexts.isna()]\n",
    "testset_df_nonan = Dataset.from_pandas(testset_df_nonan)"
   ]
  },
  {
   "cell_type": "code",
   "execution_count": 30,
   "metadata": {},
   "outputs": [
    {
     "name": "stderr",
     "output_type": "stream",
     "text": [
      "Evaluating: 100%|██████████| 46/46 [00:00<00:00, 172.78it/s]\n"
     ]
    }
   ],
   "source": [
    "# оценка ретривера\n",
    "result_context = evaluate(\n",
    "    dataset = testset_df_nonan,\n",
    "    llm=eval_llm,\n",
    "    embeddings=HuggingFaceInferenceAPIEmbeddings(api_key=HG_API_KEY, model_name=\"sentence-transformers/all-MiniLM-l6-v2\"),\n",
    "    metrics=[\n",
    "        NonLLMContextRecall(),\n",
    "        NonLLMContextPrecisionWithReference(),\n",
    "    ],\n",
    "    raise_exceptions=False\n",
    ")\n",
    "result_context = result_context.to_pandas()"
   ]
  },
  {
   "cell_type": "code",
   "execution_count": 28,
   "metadata": {},
   "outputs": [
    {
     "name": "stderr",
     "output_type": "stream",
     "text": [
      "Evaluating:  87%|████████▋ | 26/30 [02:54<00:28,  7.06s/it]Exception raised in Job[10]: TimeoutError()\n",
      "Evaluating: 100%|██████████| 30/30 [03:43<00:00,  7.47s/it]\n"
     ]
    }
   ],
   "source": [
    "# оценка модели\n",
    "result_main = evaluate(\n",
    "    dataset = testset,\n",
    "    llm=eval_llm,\n",
    "    embeddings=HuggingFaceInferenceAPIEmbeddings(api_key=HG_API_KEY, model_name=\"sentence-transformers/all-MiniLM-l6-v2\"),\n",
    "    metrics=[\n",
    "        faithfulness,\n",
    "    ],\n",
    "    raise_exceptions=False\n",
    ")\n",
    "result_main = result_main.to_pandas()"
   ]
  },
  {
   "cell_type": "code",
   "execution_count": 32,
   "metadata": {},
   "outputs": [
    {
     "name": "stdout",
     "output_type": "stream",
     "text": [
      "faithfulness:  0.362879292424747\n",
      "context_recall:  0.7007246376811594\n",
      "context_precision:  0.3296054305904617\n"
     ]
    }
   ],
   "source": [
    "# подсчет средних значений\n",
    "mean_faithfulness = result_main['faithfulness'].mean()\n",
    "mean_context_recall = result_context['non_llm_context_recall'].mean()\n",
    "mean_context_precision = result_context['non_llm_context_precision_with_reference'].mean()\n",
    "\n",
    "\n",
    "print(\"faithfulness: \", mean_faithfulness)\n",
    "print(\"context_recall: \", mean_context_recall)\n",
    "print(\"context_precision: \", mean_context_precision)"
   ]
  },
  {
   "cell_type": "code",
   "execution_count": null,
   "metadata": {},
   "outputs": [
    {
     "name": "stderr",
     "output_type": "stream",
     "text": [
      "100%|██████████| 30/30 [01:29<00:00,  2.99s/it]"
     ]
    },
    {
     "name": "stdout",
     "output_type": "stream",
     "text": [
      "{'Достоверность': 5.0, 'Безопасность': 5.0, 'Детальность': 4.966666666666667, 'Релевантность': 4.9, 'Учет цены': 4.7, 'Учет продолжительности': 5.0, 'Полезность': 4.9, 'Логистика': 4.966666666666667}\n"
     ]
    },
    {
     "name": "stderr",
     "output_type": "stream",
     "text": [
      "\n"
     ]
    }
   ],
   "source": [
    "# подсчет метрик с помощью ИИ\n",
    "import io\n",
    "from eval_utils.evalAI import get_mean_metrics\n",
    "\n",
    "def read_csv_as_text(filepath):\n",
    "    buffer = io.StringIO()\n",
    "    pd.read_csv(filepath, usecols=['description'],index_col=0).to_csv(buffer)\n",
    "    buffer.seek(0)\n",
    "    return buffer.read()\n",
    "\n",
    "csv_text = read_csv_as_text(places_paths[0]) + \"\\n\\n\" + read_csv_as_text(places_paths[1]) + \"\\n\\n\" + read_csv_as_text(places_paths[2])\n",
    "\n",
    "ai_metrics = get_mean_metrics(eval_llm, csv_text, testset_df)\n",
    "print(ai_metrics)"
   ]
  },
  {
   "cell_type": "code",
   "execution_count": null,
   "metadata": {},
   "outputs": [
    {
     "name": "stderr",
     "output_type": "stream",
     "text": [
      "100%|██████████| 30/30 [01:28<00:00,  2.96s/it]"
     ]
    },
    {
     "name": "stdout",
     "output_type": "stream",
     "text": [
      "                                             question  \\\n",
      "0   Составь маршрут по Новосибирску на 2 дня с пос...   \n",
      "1   Какой маршрут по Новосибирской области на уике...   \n",
      "2   Покажи идеи для однодневной поездки в Новосиби...   \n",
      "3   Нужен маршрут по музеям Новосибирска на 3 дня ...   \n",
      "4   Составить маршрут по Новосибирску на 1 день с ...   \n",
      "5   Порекомендуй места для отдыха в Новосибирской ...   \n",
      "6   Какой маршрут по Новосибирску можно составить ...   \n",
      "7   Есть ли интересные маршруты на 2 дня по города...   \n",
      "8   Составь маршрут на 3 дня по природным достопри...   \n",
      "9   Какой маршрут можно составить по историческим ...   \n",
      "10  Покажи, где можно провести три дня в Новосибир...   \n",
      "11  Ищу маршрут по Новосибирску на 2 дня с акценто...   \n",
      "12  Составь план поездки по культурным местам Ново...   \n",
      "13  Есть ли план на 5 дней для путешествия по инте...   \n",
      "14  Какой маршрут на 3 дня по архитектурным памятн...   \n",
      "15  Порекомендуйте однодневную поездку с активным ...   \n",
      "16  Составь маршрут по заповедникам и природным па...   \n",
      "17  Какой бюджетный маршрут по гастрономическим ме...   \n",
      "18  Нужен маршрут на 4 дня для поездки по культурн...   \n",
      "19  Покажите, как провести три дня в Новосибирске,...   \n",
      "20  Составь маршрут по художественным галереям Нов...   \n",
      "21  Где провести 2 дня с активным отдыхом в Новоси...   \n",
      "22  Порекомендуйте маршрут на 1 день по самым инте...   \n",
      "23  Какой маршрут по природным достопримечательнос...   \n",
      "24  Составь маршрут на 2 дня по историческим места...   \n",
      "25  Ищу активный отдых на 4 дня в Новосибирске с б...   \n",
      "26  Какой маршрут подойдёт для гастрономической по...   \n",
      "27  Составьте программу на 5 дней путешествия по к...   \n",
      "28  Какой план поездки по природным паркам Новосиб...   \n",
      "29  Порекомендуйте маршрут на выходные по музеям и...   \n",
      "\n",
      "                                               answer  truth  safety  detail  \\\n",
      "0   **Маршрут по Новосибирску на 2 дня с посещение...      5       5       5   \n",
      "1   Вот пример маршрута по Новосибирску на уикенд ...      5       5       5   \n",
      "2   Вот идеи для однодневной поездки в Новосибирск...      5       5       5   \n",
      "3   Вот маршрут по музеям Новосибирска на 3 дня с ...      5       5       5   \n",
      "4   Вот маршрут по Новосибирску на 1 день с ограни...      5       5       5   \n",
      "5   Вот примерный маршрут для отдыха в Новосибирск...      5       5       5   \n",
      "6   Вот пример маршрута по Новосибирску на 4 дня с...      5       5       5   \n",
      "7   Предлагаю вам маршрут с указанием расстояний и...      5       5       5   \n",
      "8   ### Маршрут на 3 дня по природным достопримеча...      5       5       5   \n",
      "9   Вот маршрут по историческим местам Новосибирск...      5       5       5   \n",
      "10  Вот маршрут на три дня в Новосибирске с минима...      5       5       5   \n",
      "11  Вот маршрут по Новосибирску на 2 дня с акценто...      5       5       5   \n",
      "12  Вот план поездки по культурным местам Новосиби...      5       5       5   \n",
      "13  Вот план на 5 дней для путешествия по интересн...      5       5       5   \n",
      "14  Вот маршрут на 3 дня по архитектурным памятник...      5       5       5   \n",
      "15  Для однодневной поездки с активным отдыхом в о...      5       5       5   \n",
      "16  Планируя маршрут, важно учитывать расстояния м...      5       5       4   \n",
      "17  Вот бюджетный маршрут по гастрономическим мест...      5       5       5   \n",
      "18  Вот пример маршрута на 4 дня по культурным и и...      5       5       5   \n",
      "19  Вот пример маршрута на три дня в Новосибирске ...      5       5       5   \n",
      "20  Вот маршрут по художественным галереям Новосиб...      5       5       5   \n",
      "21  **День 1:**\\n\\n1. **Аквапарк «Аквамир»**  \\n  ...      5       5       5   \n",
      "22  Вот маршрут на 1 день по интересным местам Нов...      5       5       5   \n",
      "23  Вот маршрут по природным достопримечательностя...      5       5       5   \n",
      "24  ### Маршрут на 2 дня по историческим местам Но...      5       5       5   \n",
      "25  Вот маршрут на 4 дня в Новосибирске с активным...      5       5       5   \n",
      "26  Вот маршрут для гастрономической поездки по Но...      5       5       5   \n",
      "27  ### Программа путешествия по культурным объект...      5       5       5   \n",
      "28  К сожалению, у меня нет информации о природных...      5       5       5   \n",
      "29  Вот маршрут на выходные по музеям и театрам Но...      5       5       5   \n",
      "\n",
      "    relevance  price  duration  utility  logistics  \n",
      "0           5      5         5        5          5  \n",
      "1           5      5         5        5          5  \n",
      "2           5      5         5        5          5  \n",
      "3           5      5         5        5          5  \n",
      "4           5      4         5        5          5  \n",
      "5           5      4         5        5          5  \n",
      "6           5      4         5        5          5  \n",
      "7           5      5         5        5          5  \n",
      "8           5      4         5        5          5  \n",
      "9           5      5         5        5          5  \n",
      "10          5      5         5        5          5  \n",
      "11          5      5         5        5          5  \n",
      "12          5      5         5        5          5  \n",
      "13          5      5         5        5          5  \n",
      "14          5      4         5        5          5  \n",
      "15          5      5         5        5          5  \n",
      "16          4      5         5        4          5  \n",
      "17          5      5         5        5          5  \n",
      "18          5      5         5        5          5  \n",
      "19          5      4         5        5          5  \n",
      "20          5      5         5        5          5  \n",
      "21          5      5         5        5          5  \n",
      "22          5      5         5        5          5  \n",
      "23          5      5         5        5          5  \n",
      "24          5      4         5        5          4  \n",
      "25          5      5         5        5          5  \n",
      "26          5      5         5        5          5  \n",
      "27          5      5         5        5          5  \n",
      "28          3      2         5        3          5  \n",
      "29          5      5         5        5          5  \n"
     ]
    },
    {
     "name": "stderr",
     "output_type": "stream",
     "text": [
      "\n"
     ]
    }
   ],
   "source": [
    "from eval_utils.evalAI import get_metrics_for_each_question\n",
    "coord_metr = get_metrics_for_each_question(eval_llm, csv_text, testset_df)\n",
    "print(coord_metr)\n",
    "coord_metr.to_csv(\"../data/eval_testset_by_quest_gpt4_coord.csv\")"
   ]
  },
  {
   "cell_type": "markdown",
   "metadata": {},
   "source": [
    "----------------------------------------------------------------------------------------------------------------------------------------------------------------"
   ]
  }
 ],
 "metadata": {
  "kernelspec": {
   "display_name": "trip_planner_1102",
   "language": "python",
   "name": "python3"
  },
  "language_info": {
   "codemirror_mode": {
    "name": "ipython",
    "version": 3
   },
   "file_extension": ".py",
   "mimetype": "text/x-python",
   "name": "python",
   "nbconvert_exporter": "python",
   "pygments_lexer": "ipython3",
   "version": "3.10.0"
  }
 },
 "nbformat": 4,
 "nbformat_minor": 2
}
